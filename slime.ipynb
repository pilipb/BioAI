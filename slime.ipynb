{
 "cells": [
  {
   "cell_type": "code",
   "execution_count": 1,
   "metadata": {},
   "outputs": [],
   "source": [
    "# Import dependencies\n",
    "import numpy as np\n",
    "import scipy.sparse as sparse\n",
    "import networkx as nx\n",
    "from queue import PriorityQueue"
   ]
  },
  {
   "cell_type": "code",
   "execution_count": null,
   "metadata": {},
   "outputs": [],
   "source": [
    "# Initialize the network\n",
    "G = nx.Graph()\n",
    "G.add_edges_from([(0,1), (1,2), (2,3), (3,0)])\n",
    "print(G.nodes)"
   ]
  },
  {
   "cell_type": "code",
   "execution_count": 2,
   "metadata": {},
   "outputs": [
    {
     "ename": "NameError",
     "evalue": "name 'G' is not defined",
     "output_type": "error",
     "traceback": [
      "\u001b[0;31m---------------------------------------------------------------------------\u001b[0m",
      "\u001b[0;31mNameError\u001b[0m                                 Traceback (most recent call last)",
      "Cell \u001b[0;32mIn[2], line 4\u001b[0m\n\u001b[1;32m      2\u001b[0m N \u001b[38;5;241m=\u001b[39m \u001b[38;5;241m10\u001b[39m  \u001b[38;5;66;03m# number of plasmodium agents. For test purposes, you can lower this number to 10 or thereabout\u001b[39;00m\n\u001b[1;32m      3\u001b[0m evaporation_rate \u001b[38;5;241m=\u001b[39m \u001b[38;5;241m0.1\u001b[39m  \u001b[38;5;66;03m# rate of slime evaporation\u001b[39;00m\n\u001b[0;32m----> 4\u001b[0m slime_concentration \u001b[38;5;241m=\u001b[39m sparse\u001b[38;5;241m.\u001b[39mcsr_matrix((\u001b[38;5;241m1\u001b[39m, \u001b[38;5;28mlen\u001b[39m(\u001b[43mG\u001b[49m\u001b[38;5;241m.\u001b[39mnodes)))  \u001b[38;5;66;03m# concentration of slime at each node\u001b[39;00m\n\u001b[1;32m      5\u001b[0m plasmodium \u001b[38;5;241m=\u001b[39m np\u001b[38;5;241m.\u001b[39mzeros((\u001b[38;5;28mlen\u001b[39m(G\u001b[38;5;241m.\u001b[39mnodes)))\n",
      "\u001b[0;31mNameError\u001b[0m: name 'G' is not defined"
     ]
    }
   ],
   "source": [
    "# Initialize the parameters\n",
    "N = 10  # number of plasmodium agents. For test purposes, you can lower this number to 10 or thereabout\n",
    "evaporation_rate = 0.1  # rate of slime evaporation\n",
    "slime_concentration = sparse.csr_matrix((1, len(G.nodes)))  # concentration of slime at each node\n",
    "plasmodium = np.zeros((len(G.nodes)))"
   ]
  },
  {
   "cell_type": "code",
   "execution_count": 10,
   "metadata": {},
   "outputs": [],
   "source": [
    "start_node = np.random.choice(list(G.nodes))\n",
    "end_node = np.random.choice(list(G.nodes))"
   ]
  },
  {
   "cell_type": "code",
   "execution_count": 11,
   "metadata": {},
   "outputs": [],
   "source": [
    "queue = PriorityQueue()\n",
    "queue.put((-plasmodium[start_node], start_node))\n",
    "while not queue.empty():\n",
    "    current_node = queue.get()[1]\n",
    "    if current_node == end_node:\n",
    "        break\n",
    "    neighbors = list(G.neighbors(current_node))\n",
    "    if len(neighbors) == 0:\n",
    "        break\n",
    "    for neighbor in neighbors:\n",
    "        next_concentration = plasmodium[current_node] / len(neighbors)\n",
    "        if next_concentration > slime_concentration[0, neighbor]:\n",
    "            slime_concentration[0, neighbor] = next_concentration\n",
    "            queue.put((-next_concentration, neighbor))\n",
    "        plasmodium[neighbor] += plasmodium[current_node] / len(neighbors)\n",
    "        \n",
    "    # Update the slime concentration at each node\n",
    "    slime_concentration *= (1 - evaporation_rate)"
   ]
  },
  {
   "cell_type": "code",
   "execution_count": null,
   "metadata": {},
   "outputs": [],
   "source": [
    "path = [start_node]\n",
    "while path[-1] != end_node:\n",
    "    neighbors = list(G.neighbors(path[-1]))\n",
    "    next_node = neighbors[np.argmax(slime_concentration[0, neighbors])]\n",
    "    path.append(next_node)"
   ]
  },
  {
   "cell_type": "code",
   "execution_count": null,
   "metadata": {},
   "outputs": [],
   "source": [
    "# Print the shortest path\n",
    "print(path)"
   ]
  }
 ],
 "metadata": {
  "kernelspec": {
   "display_name": "deepforest",
   "language": "python",
   "name": "python3"
  },
  "language_info": {
   "codemirror_mode": {
    "name": "ipython",
    "version": 3
   },
   "file_extension": ".py",
   "mimetype": "text/x-python",
   "name": "python",
   "nbconvert_exporter": "python",
   "pygments_lexer": "ipython3",
   "version": "3.12.2"
  }
 },
 "nbformat": 4,
 "nbformat_minor": 2
}
